{
 "cells": [
  {
   "cell_type": "code",
   "execution_count": 1,
   "metadata": {},
   "outputs": [],
   "source": [
    "import numpy as np\n",
    "import re\n",
    "import os\n",
    "from FoamCase import FoamTimeSave\n",
    "from MLUtilities import MLDataSet"
   ]
  },
  {
   "cell_type": "code",
   "execution_count": 2,
   "metadata": {},
   "outputs": [],
   "source": [
    "flatPlateDataset = MLDataSet(\"../turbulentFlatPlate/postProcess\", \"../turbulentFlatPlate/downsample\", time = 0)\n",
    "flatPlateDataset.geometric_downsample(wallmin=0.0, wallmax=0.05, \n",
    "                        xmin=0.0, xmax=2.0,\n",
    "                        ymin=0.0, ymax=0.05,\n",
    "                        zmin=0.0, zmax=0.1)"
   ]
  },
  {
   "cell_type": "code",
   "execution_count": 4,
   "metadata": {},
   "outputs": [
    {
     "name": "stdout",
     "output_type": "stream",
     "text": [
      "(7272,)\n"
     ]
    }
   ],
   "source": [
    "flatPlateDataset.downsample_based_on_label(label=\"Db\", \n",
    "                                           features=[\"lambda1\", \"lambda2\", \"lambda5\", \n",
    "                                                     \"ReW\", \"rd\", \"Farg1\", \"Farg2\"],\n",
    "                                           from_geo_ds=True,\n",
    "                                           trivialValue=1.0)\n"
   ]
  }
 ],
 "metadata": {
  "kernelspec": {
   "display_name": "opt-env",
   "language": "python",
   "name": "python3"
  },
  "language_info": {
   "codemirror_mode": {
    "name": "ipython",
    "version": 3
   },
   "file_extension": ".py",
   "mimetype": "text/x-python",
   "name": "python",
   "nbconvert_exporter": "python",
   "pygments_lexer": "ipython3",
   "version": "3.10.8"
  }
 },
 "nbformat": 4,
 "nbformat_minor": 2
}
